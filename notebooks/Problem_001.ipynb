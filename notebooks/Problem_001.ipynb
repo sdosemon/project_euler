{
 "cells": [
  {
   "cell_type": "markdown",
   "id": "3296b5c3",
   "metadata": {},
   "source": [
    "# Problem 1\n",
    "## Multiples of 3 or 5\n",
    "\n",
    "If we list all the natural numbers below 10 that are multiples of 3 or 5, we get 3, 5, 6 and 9. The sum of these multiples is 23.\n",
    "\n",
    "Find the sum of all the multiples of 3 or 5 below 1000."
   ]
  },
  {
   "cell_type": "markdown",
   "id": "1f17edd4",
   "metadata": {},
   "source": [
    "---"
   ]
  },
  {
   "cell_type": "markdown",
   "id": "a009cc8e",
   "metadata": {},
   "source": [
    "## Solution 1: Straightforward Loop Checking\n",
    "\n",
    "### Thought process:\n",
    "\n",
    "1. Require to sum all numbers below a certain limit (in said case: 1000) that are multiples of 3 or 5\n",
    "\n",
    "\n",
    "2. Need not waste memory allocation, therefore store value in varialbe 'sum', update while looping\n",
    "\n",
    "> Avoid creating a list of all multiples, to conserve memory, since we can accumulate the sum on the fly\n",
    "\n",
    "\n",
    "3. A number $ x $ is divisible by $ y $ if and only if:\n",
    "$\n",
    "x\\ \\mathbf{mod}\\ {y} = 0\n",
    "$\n",
    "\n",
    "   Equivalently in Python:\n",
    "\n",
    "   `x % y == 0`\n",
    "   \n",
    "\n",
    "4. Recall the truth table for **OR**, sum those wich are either divisible by 3 **or** 5\n",
    "\n",
    "| p | q | p ^ q |\n",
    "| ----------- | ----------- | ----------- |\n",
    "| T | T | T |\n",
    "| T | F | T |\n",
    "| F | T | T |\n",
    "| F | F | F |\n",
    "\n",
    "Hence,"
   ]
  },
  {
   "cell_type": "code",
   "execution_count": 1,
   "id": "d7f938f5",
   "metadata": {
    "slideshow": {
     "slide_type": "slide"
    }
   },
   "outputs": [
    {
     "name": "stdout",
     "output_type": "stream",
     "text": [
      "233168\n"
     ]
    }
   ],
   "source": [
    "LIMIT   = 1000\n",
    "sum_    = 0\n",
    "\n",
    "for num_ in range(LIMIT):\n",
    "    if not (num_ % 3) or not (num_ % 5):\n",
    "        sum_ += num_\n",
    "\n",
    "print(sum_) # → 233168"
   ]
  },
  {
   "cell_type": "markdown",
   "id": "c178153e",
   "metadata": {},
   "source": [
    "---"
   ]
  },
  {
   "cell_type": "markdown",
   "id": "bce49d45",
   "metadata": {},
   "source": [
    "\n",
    "## Solution 2: Arithmetic Sum\n",
    "\n",
    "### Thought process:\n",
    "1. Instead of relying on iteration, let’s use our mathematical tools:\n",
    "\n",
    "   Recall the arithmetic series/ arithmetic progression (AP) formula:\n",
    "\n",
    "   $$\n",
    "   S_n = \\frac{n}{2}\\,(2a_1 + (n-1)d)\n",
    "   $$\n",
    "\n",
    "   Equivalently, since $ a_n = a_1 + (n-1)d $:\n",
    "\n",
    "   $$\n",
    "   S_n = \\frac{n}{2}\\,(a_1 + a_n).\n",
    "   $$\n",
    "\n",
    "2. Clearly, for the AP $ 3, 6, 9, 12, ...$ ;   $ a_1 = 3 $\n",
    "\n",
    "   Let the sum of this series be denoted $A$\n",
    "\n",
    "   Now: we are tasked to find $S_n = A$ where $ n = \\lfloor \\frac{1000}{3} \\rfloor $\n",
    "\n",
    "3. Similarly, for the AP $ 5, 10, 15, 20, ...$ ;   $ a_1 = 5 $\n",
    "\n",
    "   Let the sum of this series be denoted $B$\n",
    "\n",
    "   Notice, however, that the problem requires us to find the sum of ... divisible by 5 up to (but not including) 1000\n",
    "\n",
    "   Hence: find $S_n = B$ where $ n = \\lfloor \\frac{999}{5} \\rfloor $\n",
    "\n",
    "4. Lastly, we must not forget the AP $ 15, 30, 45, 60, ...$ ; $a_1 = 15$\n",
    "   \n",
    "   Let the sum of this series be denoted $C$\n",
    "\n",
    "   Where, $S_n = C$ has $ n = \\lfloor \\frac{1000}{15} \\rfloor $\n",
    "\n",
    "5. The problem is solved by $ A + B - C $ as the sum of the AP $ 3, 5, 6, 9, 12, 15, ... $ \n",
    "\n",
    "   We can replicate the floor ($\\lfloor x \\rfloor$) function in python using:\n",
    "   \n",
    "   `x // 1` or specifically `1000 // x` for the case above\n",
    "\n",
    "   <br>\n",
    "   Note: by finding $n$, we recover $a_n$, since for AP with $ d = a_1$, $a_n = n * a_1$\n",
    "\n",
    "\n",
    "Hence,\n"
   ]
  },
  {
   "cell_type": "markdown",
   "id": "7dda3831",
   "metadata": {},
   "source": []
  },
  {
   "cell_type": "code",
   "execution_count": null,
   "id": "69bbca57",
   "metadata": {},
   "outputs": [
    {
     "name": "stdout",
     "output_type": "stream",
     "text": [
      "233168.0\n"
     ]
    }
   ],
   "source": [
    "def sum_mult(k, limit):\n",
    "    n = (limit - 1) // k\n",
    "    return k * n * (n + 1) // 2\n",
    "\n",
    "LIMIT = 1000\n",
    "total = sum_mult(3, LIMIT) + sum_mult(5, LIMIT) - sum_mult(15, LIMIT)\n",
    "\n",
    "print(total)  # → 233168\n",
    "    "
   ]
  }
 ],
 "metadata": {
  "kernelspec": {
   "display_name": ".venv",
   "language": "python",
   "name": "python3"
  },
  "language_info": {
   "codemirror_mode": {
    "name": "ipython",
    "version": 3
   },
   "file_extension": ".py",
   "mimetype": "text/x-python",
   "name": "python",
   "nbconvert_exporter": "python",
   "pygments_lexer": "ipython3",
   "version": "3.9.6"
  }
 },
 "nbformat": 4,
 "nbformat_minor": 5
}
