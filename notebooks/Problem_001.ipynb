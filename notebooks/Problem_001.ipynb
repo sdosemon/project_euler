{
 "cells": [
  {
   "cell_type": "markdown",
   "id": "3296b5c3",
   "metadata": {},
   "source": [
    "# Problem 1\n",
    "## Multiples of 3 or 5\n",
    "\n",
    "If we list all the natural numbers below 10 that are multiples of 3 or 5, we get 3, 5, 6 and 9. The sum of these multiples is 23.\n",
    "\n",
    "Find the sum of all the multiples of 3 or 5 below 1000."
   ]
  },
  {
   "cell_type": "markdown",
   "id": "1f17edd4",
   "metadata": {},
   "source": [
    "---"
   ]
  },
  {
   "cell_type": "markdown",
   "id": "a009cc8e",
   "metadata": {},
   "source": [
    "## Solution 1: Straightforward Loop Checking\n",
    "\n",
    "### Thought process:\n",
    "\n",
    "1. Require to sum all numbers below a certain limit (in said case: 1000) that are multiples of 3 or 5\n",
    "\n",
    "\n",
    "2. Need not waste memory allocation, therefore store value in varialbe 'sum', update while looping\n",
    "\n",
    "> Avoid creating a list of all multiples, to conserve memory, since we can accumulate the sum on the fly\n",
    "\n",
    "\n",
    "3. A number $ x $ is divisible by $ y $ if and only if:\n",
    "$\n",
    "x\\ \\mathbf{mod}\\ {y} = 0\n",
    "$\n",
    "\n",
    "   Equivalently in Python:\n",
    "\n",
    "   `x % y == 0`\n",
    "   \n",
    "\n",
    "4. Recall the truth table for **OR**, sum those wich are either divisible by 3 **or** 5\n",
    "\n",
    "| p | q | p ^ q |\n",
    "| ----------- | ----------- | ----------- |\n",
    "| T | T | T |\n",
    "| T | F | T |\n",
    "| F | T | T |\n",
    "| F | F | F |\n",
    "\n",
    "Hence,"
   ]
  },
  {
   "cell_type": "code",
   "execution_count": 16,
   "id": "d7f938f5",
   "metadata": {
    "slideshow": {
     "slide_type": "slide"
    }
   },
   "outputs": [
    {
     "name": "stdout",
     "output_type": "stream",
     "text": [
      "233168\n"
     ]
    }
   ],
   "source": [
    "LIMIT   = 1000\n",
    "sum_    = 0\n",
    "\n",
    "for num_ in range(LIMIT):\n",
    "    if not (num_ % 3) or not (num_ % 5):\n",
    "        sum_ += num_\n",
    "\n",
    "print(sum_) # → 233168"
   ]
  },
  {
   "cell_type": "markdown",
   "id": "c178153e",
   "metadata": {},
   "source": [
    "---"
   ]
  },
  {
   "cell_type": "markdown",
   "id": "bce49d45",
   "metadata": {},
   "source": [
    "\n",
    "## Solution 2: Arithmetic Sum\n",
    "\n",
    "### Thought process:\n",
    "1. Instead of relying on iteration, let’s use our mathematical tools:\n",
    "\n",
    "   Recall the arithmetic series/ arithmetic progression (AP) formula:\n",
    "\n",
    "   $$\n",
    "   S_n = \\frac{n}{2}\\,(2a_1 + (n-1)d)\n",
    "   $$\n",
    "\n",
    "   Equivalently, since $ a_n = a_1 + (n-1)d $:\n",
    "\n",
    "   $$\n",
    "   S_n = \\frac{n}{2}\\,(a_1 + a_n).\n",
    "   $$\n",
    "\n",
    "2. Clearly, for the AP $ 3, 6, 9, 12, ...$ ;   $ a_1 = 3 $\n",
    "\n",
    "   Let the sum of this series be denoted $A$\n",
    "\n",
    "   Now: we are tasked to find $S_n = A$ where $ n = \\lfloor \\frac{1000}{3} \\rfloor $\n",
    "\n",
    "3. Similarly, for the AP $ 5, 10, 15, 20, ...$ ;   $ a_1 = 5 $\n",
    "\n",
    "   Let the sum of this series be denoted $B$\n",
    "\n",
    "   Notice, however, that the problem requires us to find the sum of ... divisible by 5 up to (but not including) 1000\n",
    "\n",
    "   Hence: find $S_n = B$ where $ n = \\lfloor \\frac{999}{5} \\rfloor $\n",
    "\n",
    "4. Lastly, we must not forget the AP $ 15, 30, 45, 60, ...$ ; $a_1 = 15$\n",
    "   \n",
    "   Let the sum of this series be denoted $C$\n",
    "\n",
    "   Where, $S_n = C$ has $ n = \\lfloor \\frac{1000}{15} \\rfloor $\n",
    "\n",
    "5. The problem is solved by $ A + B - C $ as the sum of the AP $ 3, 5, 6, 9, 12, 15, ... $ \n",
    "\n",
    "   We can replicate the floor ($\\lfloor x \\rfloor$) function in python using:\n",
    "   \n",
    "   `x // 1` or specifically `1000 // x` for the case above\n",
    "   <br>\n",
    "\n",
    "   Note: by finding $n$, we recover $a_n$, since for AP with $ d = a_1$, $a_n = n \\times a_1$\n",
    "\n",
    "\n",
    "Hence,\n"
   ]
  },
  {
   "cell_type": "code",
   "execution_count": 17,
   "id": "69bbca57",
   "metadata": {},
   "outputs": [
    {
     "name": "stdout",
     "output_type": "stream",
     "text": [
      "233168\n"
     ]
    }
   ],
   "source": [
    "def sum_mult(k, limit):\n",
    "    n = (limit - 1) // k\n",
    "    return k * n * (n + 1) // 2\n",
    "\n",
    "LIMIT = 1000\n",
    "total = sum_mult(3, LIMIT) + sum_mult(5, LIMIT) - sum_mult(15, LIMIT)\n",
    "\n",
    "print(total)  # → 233168\n",
    "    "
   ]
  },
  {
   "cell_type": "markdown",
   "id": "df4e87bb",
   "metadata": {},
   "source": [
    "---"
   ]
  },
  {
   "cell_type": "markdown",
   "id": "f2f84a70",
   "metadata": {},
   "source": [
    "## Solution 3: Built-in Python Functions\n",
    "\n",
    "### Thought process:\n",
    "\n",
    "1. Leverage built‑ins function: `range(start, stop, step)` is implemented in C (compiled language, hence faster) and generates exactly the multiples we need; no Python‐level loops until the very end.  \n",
    "\n",
    "2. Dedupe with `set`: Converting each `range` to a `set` automatically removes duplicates (i.e. multiples of both `num1` and `num2`).  \n",
    "\n",
    "3. Union for inclusion–exclusion: Taking the union of the two sets merges them without double‑counting, exactly matching the “3 or 5” condition.  \n",
    "\n",
    "4. Single‐pass summation: `sum(...)` over the union does one pass through roughly `maxv/3 + maxv/5 – maxv/15`.\n",
    "\n",
    "Hence,"
   ]
  },
  {
   "cell_type": "code",
   "execution_count": 18,
   "id": "94c9bcf0",
   "metadata": {},
   "outputs": [
    {
     "name": "stdout",
     "output_type": "stream",
     "text": [
      "233168\n"
     ]
    }
   ],
   "source": [
    "RANGE   = 1000\n",
    "NUM1    = 3\n",
    "NUM2    = 5\n",
    "\n",
    "def multiples_of_2num(maxv, num1, num2):\n",
    "    set1 = set(range(num1, maxv, num1))\n",
    "    set2 = set(range(num2, maxv, num2))\n",
    "\n",
    "    return sum(set1 | set2)\n",
    "\n",
    "print(multiples_of_2num(RANGE, NUM1, NUM2))"
   ]
  },
  {
   "cell_type": "markdown",
   "id": "a7672553",
   "metadata": {},
   "source": [
    "---"
   ]
  },
  {
   "cell_type": "markdown",
   "id": "759b6efe",
   "metadata": {},
   "source": [
    "## Solution 4: Linear Algebra\n",
    "\n",
    "### Thought process:\n",
    "\n",
    "Rather than thinking in loops or sets, let’s lift the whole problem into **ℝᴺ** and use vectors & inner‑products:\n",
    "\n",
    "1. Build the “value” vector  \n",
    "   $$\n",
    "     \\mathbf{x} = [\\,0,1,2,\\dots,999\\,]^\\top \\in \\mathbb{R}^{1000}.\n",
    "   $$\n",
    "\n",
    "2. Construct an “indicator” vector \n",
    "\n",
    "   Define:  \n",
    "   $\n",
    "     \\mathbf{s}_3[i] = \n",
    "       \\begin{cases}\n",
    "         1 & \\text{if }i\\equiv0\\pmod3,\\\\\n",
    "         0 & \\text{o/w.}\n",
    "       \\end{cases}\n",
    "     \\quad\n",
    "     ,\n",
    "     \\mathbf{s}_5[i] = \n",
    "       \\begin{cases}\n",
    "         1 & \\text{if }i\\equiv0\\pmod5,\\\\\n",
    "         0 & \\text{o/w.}\n",
    "       \\end{cases}\n",
    "   $\n",
    "\n",
    "   and similarly for $\\mathbf{s}_{15}$. Then by inclusion–exclusion our final selector is  \n",
    "   $$\n",
    "     \\mathbf{s} = \\mathbf{s}_3 + \\mathbf{s}_5 - \\mathbf{s}_{15}.\n",
    "   $$\n",
    "\n",
    "3. Take the dot product \n",
    "   $$\n",
    "     \\mathbf{s}^\\top \\mathbf{x}.\n",
    "     \\;=\\;\n",
    "     \\sum_{i = 0}^{999} \\mathbf{s}[i] \\times \\mathbf{x}[i]\n",
    "      \\;=\\;   \n",
    "     \\sum_{i<1000,\\;3|i\\text{ or }5|i} i\n",
    "   $$  \n",
    "\n",
    "This can be done in Python, with help from NumPy. Hence,"
   ]
  },
  {
   "cell_type": "code",
   "execution_count": 7,
   "id": "76a467aa",
   "metadata": {
    "slideshow": {
     "slide_type": "slide"
    }
   },
   "outputs": [
    {
     "data": {
      "text/plain": [
       "233168"
      ]
     },
     "execution_count": 7,
     "metadata": {},
     "output_type": "execute_result"
    }
   ],
   "source": [
    "import numpy as np\n",
    "\n",
    "RANGE = 1000\n",
    "x     = np.arange(RANGE)\n",
    "\n",
    "s3    = (x % 3 == 0).astype(int)\n",
    "s5    = (x % 5 == 0).astype(int)\n",
    "s15   = (x % 15 == 0).astype(int)\n",
    "\n",
    "s     = s3 + s5 - s15\n",
    "total = x @ s\n",
    "\n",
    "total.item()"
   ]
  }
 ],
 "metadata": {
  "kernelspec": {
   "display_name": ".venv",
   "language": "python",
   "name": "python3"
  },
  "language_info": {
   "codemirror_mode": {
    "name": "ipython",
    "version": 3
   },
   "file_extension": ".py",
   "mimetype": "text/x-python",
   "name": "python",
   "nbconvert_exporter": "python",
   "pygments_lexer": "ipython3",
   "version": "3.9.6"
  }
 },
 "nbformat": 4,
 "nbformat_minor": 5
}
