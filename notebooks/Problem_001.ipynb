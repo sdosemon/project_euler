{
 "cells": [
  {
   "cell_type": "markdown",
   "id": "3296b5c3",
   "metadata": {},
   "source": [
    "# Problem 1\n",
    "## Multiples of 3 or 5\n",
    "\n",
    "If we list all the natural numbers below 10 that are multiples of 3 or 5, we get 3,5,6 and 9. The sum of these multiples is 23.\n",
    "\n",
    "Find the sum of all the multiples of 3 or 5 below 1000."
   ]
  },
  {
   "cell_type": "markdown",
   "id": "1f17edd4",
   "metadata": {},
   "source": [
    "---\n",
    "## Solution 1: straight forward loop checking\n",
    "\n",
    "### Thought process:\n",
    "   1. Need to sum all numbers below a certain limit that are multiples of 3 or 5\n",
    "   2. Need not to waste memory allocation, therefore store value in variable 'sum'\n",
    "> tip: avoid creating a list of all multiples, to conserve memory, since we can accumulate the sum on the fly\n",
    "   3. A number 'x' is divisible by 'y' iff x mod y = 0 (x % y == 0)\n",
    "   4. Recall the truth table for OR, sum those which are either divisible by 3 or 5."
   ]
  },
  {
   "cell_type": "code",
   "execution_count": 6,
   "id": "d7f938f5",
   "metadata": {
    "slideshow": {
     "slide_type": "slide"
    }
   },
   "outputs": [
    {
     "name": "stdout",
     "output_type": "stream",
     "text": [
      "233168\n"
     ]
    }
   ],
   "source": [
    "LIMIT   = 1000\n",
    "sum_    = 0\n",
    "\n",
    "for num_ in range(LIMIT):\n",
    "    if not (num_ % 3) or not (num_ % 5):\n",
    "        sum_ += num_\n",
    "\n",
    "print(sum_)"
   ]
  }
 ],
 "metadata": {
  "kernelspec": {
   "display_name": ".venv",
   "language": "python",
   "name": "python3"
  },
  "language_info": {
   "codemirror_mode": {
    "name": "ipython",
    "version": 3
   },
   "file_extension": ".py",
   "mimetype": "text/x-python",
   "name": "python",
   "nbconvert_exporter": "python",
   "pygments_lexer": "ipython3",
   "version": "3.9.6"
  }
 },
 "nbformat": 4,
 "nbformat_minor": 5
}
