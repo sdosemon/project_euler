{
 "cells": [
  {
   "cell_type": "markdown",
   "id": "3296b5c3",
   "metadata": {},
   "source": [
    "# Problem 1\n",
    "## Multiples of 3 or 5\n",
    "\n",
    "If we list all the natural numbers below 10 that are multiples of 3 or 5, we get 3,5,6 and 9. The sum of these multiples is 23.\n",
    "\n",
    "Find the sum of all the multiples of 3 or 5 below 1000."
   ]
  },
  {
   "cell_type": "code",
   "execution_count": null,
   "id": "6e3e7b83",
   "metadata": {
    "slideshow": {
     "slide_type": "slide"
    }
   },
   "outputs": [],
   "source": [
    "# Solution 1: straightforward loop checking\n",
    "\n",
    "# Thought process:\n",
    "#   1. Need to sum all numbers below a certain limit that are multiples of 3 or 5\n",
    "#   2. Iterate through number, check if satisfy condition\n",
    "#   3. Need not to waste memory allocation, therefore store value in variable 'sum'\n",
    "#       (using list clutter local memory, especially when calling final sum as its a pointer object)\n",
    "#   4. A number 'x' is divisible by 'y' iff x mod y = 0 (x % y == 0)\n",
    "#   5. Recall the truth table for OR, sum those which are either divisible by 3 or 5."
   ]
  },
  {
   "cell_type": "code",
   "execution_count": null,
   "id": "d7f938f5",
   "metadata": {
    "slideshow": {
     "slide_type": "slide"
    }
   },
   "outputs": [],
   "source": [
    "LIMIT   = 1000\n",
    "sum     = 0\n",
    "\n",
    "for num_ in range(LIMIT):\n",
    "    if not (num_ % 3) or not (num_ % 5):\n",
    "        sum += num_\n",
    "\n",
    "print(sum)"
   ]
  }
 ],
 "metadata": {
  "jupytext": {
   "formats": "ipynb,../src/euler//py:percent"
  },
  "kernelspec": {
   "display_name": ".venv",
   "language": "python",
   "name": "python3"
  },
  "language_info": {
   "codemirror_mode": {
    "name": "ipython",
    "version": 3
   },
   "file_extension": ".py",
   "mimetype": "text/x-python",
   "name": "python",
   "nbconvert_exporter": "python",
   "pygments_lexer": "ipython3",
   "version": "3.9.6"
  }
 },
 "nbformat": 4,
 "nbformat_minor": 5
}
